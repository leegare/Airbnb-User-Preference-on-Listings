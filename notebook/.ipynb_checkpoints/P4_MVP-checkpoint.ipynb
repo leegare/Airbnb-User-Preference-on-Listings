{
 "cells": [
  {
   "cell_type": "markdown",
   "metadata": {},
   "source": [
    "# MVP: Hosting per location or per property? \n",
    "---\n",
    "# Introduction\n",
    "\n",
    "Tourism is a major business in pretty much every country who has places and experiences to offer and that catch the interest of foreigners. Essential services for the tourists ranging from restaurants to hotels have flourished and in particular we've seen the company Airbnb enter in a peculiar manner. \n",
    "\n",
    "In the old days when hotels were sparse, tourists had no choice of its location so they resorted to choose establishments with other appealing features. Then came Airbnb and democratized the location giving tourists the option. \n",
    "\n",
    "I'd like to understand how tourists make choices involving hotel hunting and in order to have an accurate study a huge dataset is needed. A city with a myriad of listings has to be a city in the top ten places to visit and among them there are no best candidates than Paris in France. The tourist capital of the world, with a breaking record 40 million tourists per year, Paris is prepared to welcome them. \n",
    "\n",
    "---"
   ]
  },
  {
   "cell_type": "markdown",
   "metadata": {},
   "source": [
    "# Background\n",
    "\n",
    "Having lived in Paris for 4 years I became a francophiliac. To avoid forgetting the beautiful language they speak I keep up with the actualities in France and it was when I stumbled with this video that caught my attention (https://www.youtube.com/watch?v=Iywwa3wfhoU&t=35s). It's about Airbnb and its disruptive innovation that is affecting the residential housing in tourist-concentrated cities like Barcelona and Paris."
   ]
  },
  {
   "cell_type": "markdown",
   "metadata": {},
   "source": [
    "___\n",
    "# *Are Airbnb guests more interested in listings that are in convenient neighbourhoods regardless of the condition of the property?*\n",
    "---"
   ]
  },
  {
   "cell_type": "markdown",
   "metadata": {},
   "source": [
    "# Questions and Goals\n",
    "\n",
    "*To answer the above question, the **occupancy rate** of each listing needs to be calculated as it is the actual popularity rating and it's not provided by the dataset. Secondly this project will aim to answer the following questions:*\n",
    "\n",
    "#### I. Where are the best listings? \n",
    "- What parameters define a popular listing? \n",
    "\n",
    "#### II. Which are Paris' convenient neighbourhoods to stay at?\n",
    "- Define best/worst neighbourhoods with respect to the listing's price, proximity to transportation access, tourist attractions, parks and recreations. \n",
    "    - What is the proportion of high rated listings per district? \n",
    "\n",
    "---"
   ]
  },
  {
   "cell_type": "markdown",
   "metadata": {},
   "source": [
    "# The Dataset\n",
    "\n",
    "The data is taken from http://insideairbnb.com/get-the-data.html where the website offers popular city listings updated to this year. The data can be summarized in 6 categories: host, listing's summary, listing's specs, guest, location and reviews. \n",
    "\n",
    "Originally the dataset held 62848 listings described in 91 columns. These listings have been collected from 2009 to this year. \n",
    "\n",
    "The location information for listings are anonymized by Airbnb. In practice, this means the location (latitude and longitude) for a listing on the map, or in the data will be from 0-450 feet (150 metres) of the actual address.\n",
    "\n",
    "Neighbourhood names for each listing are compiled by comparing the listing's geographic coordinates with a city's definition of neighbourhoods. Airbnb neighbourhood names are not used because of their inaccuracies.\n",
    "\n",
    "---"
   ]
  },
  {
   "cell_type": "markdown",
   "metadata": {},
   "source": [
    "# Initial Data Cleaning Approach and Exploratory Findings\n",
    "\n",
    "From the 91 columns, I filtered out 30 columns containing paragraphs of descriptions and reviews and variables that were unnecessary (correlated) or irrelevant to the analysis. On the second filter, columns with a high volume of missing or incorrect values got removed leaving the dataset with 49 pertinent columns. I then grouped them in 5 categories: Host qualities, Listing specs, Location data and Review scores.  \n",
    "\n",
    "The zipcodes and the cities were either inaccurate or mispelled. In order to clean them, I transformed the zipcodes into their numerical standard form. Then I grouped all the listings by zipcode and took the common city name to be the official name for the whole zipcode. \n",
    "\n",
    "## EDA: What are the factors that we can use to consider a good listing?\n",
    "\n",
    "### *In host qualities:*\n",
    "\n",
    "HOST_RESPONSE_TIME  \n",
    "\n",
    "It's a categorical variable holding 4 unique values: 'within an hour', 'within a day', 'within a few hours','a few days or more' AND 11067 null values. \n",
    "\n",
    "A good host would be attentive to its guest's needs. The guest will evaluate the host's response time for every request made depending on its urgency to satisfy and/or difficulty to provide an accurate answer. The dataset shows that 21% have very reactive hosts who replied within the hour, 50% of hosts answered within a few hours and 24% within the day, the remaning 2.8% refer to hosts that for some reason delivered or not an answer outside of the usual delays. "
   ]
  },
  {
   "cell_type": "markdown",
   "metadata": {},
   "source": [
    "![**Figure EDA Host Qualities**](../images/EDA_Host_qualities.png)"
   ]
  },
  {
   "cell_type": "markdown",
   "metadata": {},
   "source": [
    "### *About the listing's specs:*\n",
    "\n",
    "ROOM TYPE\n",
    "\n",
    "It can be safe to assume that the best listings will offer entire homes or appartments at the guests disposition, in Paris 88% of the listings are full homes or appartments (the latter might be a more accurate guess), then 12% offer private rooms and only 0.7% shared rooms. \n",
    "\n",
    "BED TYPE\n",
    "\n",
    "The best listings will have a real bed. That's a fact!"
   ]
  },
  {
   "cell_type": "markdown",
   "metadata": {},
   "source": [
    "![**Figure Room&Bed Types**](../images/EDA_room_n_bed_types.png)"
   ]
  },
  {
   "cell_type": "markdown",
   "metadata": {},
   "source": [
    "BEDS & BATHROOMS\n",
    "\n",
    "If there are no bathrooms within the room or appartment, that can be inconvenient. \n",
    "\n",
    "The number of bathrooms range from 0 to 8 where 88% of the listings have 1 bathroom and 55% have 1 bed. On the other hand there are 33 listings that have no bathroom since they are not part of the common types of room. It turns out they are seminar rooms, showrooms, studios and \"chambre de bonne\" which are also studios located on the last floor and where the WC is outside somewhere along the corridor. \n",
    "\n",
    "There are 34 listings that dont list a bed at all. They must've forgot as they are all entire homes/apts with 0 real beds who can accommodate 2 to 7 guests and 1 to 4 extra people. So there is no such thing as a listing without beds, unless it's a seminary or showroom. Since I'm looking for factors that can affect the quality of the listing, the number of beds doesnt matter. \n",
    "\n",
    "On the other hand there are 7 Boutique hotel listings that report 50 bathrooms and 4 of them report 50 beds!    "
   ]
  },
  {
   "cell_type": "markdown",
   "metadata": {},
   "source": [
    "AMENITIES\n",
    "    \n",
    "When it comes to amenities, listings will have the essential ones plus some extra that adds color and value to the listing. The **best listings** have at least the essential amenities and that's why Airbnb provides and option called \"Essentials\" and 94% listings did checked it. There are 136 unique amenities that I've simply categorized in 10 groups. "
   ]
  },
  {
   "cell_type": "markdown",
   "metadata": {},
   "source": [
    "![**Figure Amenities**](../images/EDA_amenities_presence.png)"
   ]
  },
  {
   "cell_type": "markdown",
   "metadata": {},
   "source": [
    "The figure above shows the normalized presence of each category (of amenities) in the dataset (in blue) and the size of each category (in yellow). It can be interpreted that many listings have more of electronic amenities or entertainment related than amenities related to safety and security or accessibility. \n",
    "\n",
    "From the graph above one would intuitively say that as long as there are amenities refering to electronics and entertainment, the listing is showing promising. "
   ]
  },
  {
   "cell_type": "markdown",
   "metadata": {},
   "source": [
    "MINIMUM AND MAXIMUM NIGHTS\n",
    "\n",
    "These are pieces of data that will help defining the occupancy rate. There appears to be 11 outliers in the minimum_nights with a values greater than 500. On the maximum nights side there are 22618 listings with values higher than 365. \n",
    "\n",
    "Cutting off the outliers the distribution of the minimum number of nights is of the form: "
   ]
  },
  {
   "cell_type": "markdown",
   "metadata": {},
   "source": [
    "![**Figure Price_range**](../images/EDA_minimum_nights_range.png)"
   ]
  },
  {
   "cell_type": "markdown",
   "metadata": {},
   "source": [
    "With an average of 4.5 nights, I will use this as a standard value to get the occupancy rate. "
   ]
  },
  {
   "cell_type": "markdown",
   "metadata": {},
   "source": [
    "PRICE and LOCATION\n",
    "\n",
    "The **best listing** should have a reasonable linear price/quality ratio. The less amenities a listing has (no real beds etc,) should yield a lower price and viceversa. Another intervening factor is the location. It is known that in most European cities the further you move away from the center the cheaper everything becomes. In Paris, this can be true except for certain districts like the 16th which is known to be quite expensive. In this project I will study this trinomial relationship. \n",
    "\n",
    "The price range resulted a bit sparse so I assigned them into broader intervals: "
   ]
  },
  {
   "cell_type": "markdown",
   "metadata": {},
   "source": [
    "![**Figure Price_range**](../images/EDA_price_range.png)"
   ]
  },
  {
   "cell_type": "markdown",
   "metadata": {},
   "source": [
    "The dataset shows 50 unique zipcodes and 50 unique cities (or districts) where Paris has approximately 20 zipcodes (or the number of its districts a.k.a arrondissements) and the remaining zipcodes greater than 75020 correspond to the suburbs. There are 269 listings in the suburbs, a number so negligeable it will not affect the results if removed from the dataset. In the figure below are the listings in Paris only, where there are a few outliers quite far from the city limits. The size of each listing is proportional to its price"
   ]
  },
  {
   "cell_type": "markdown",
   "metadata": {},
   "source": [
    "![**Figure Districts of Paris**](../images/EDA_Arrondissements_copie.png)"
   ]
  },
  {
   "cell_type": "markdown",
   "metadata": {},
   "source": [
    "### *From the review section* \n",
    "\n",
    "NUMBER_OF_REVIEWS & REVIEWS_PER_MONTH\n",
    "\n",
    "These descriptors will help in defining the **occupancy rate** which is the key factor of a good listing. The more reviews, the higher the occupancy rate, the higher the occupancy rate, the better the listing. \n",
    "    \n",
    "Listings have 22 total reviews in average, this is considering old and new listings. A definite outlier has a bit over 600 reviews!! \n",
    "As for the reviews_per_month column there is listing #11034796 which is the only one having more than 50 reviews per month (224 to be exact) so without considering it the average reviews per month is 1. \n",
    "\n",
    "The dataset also provides a reviews csv file containing 1074759 reviews with its listing_id, date, reviewer_id and the review itself. I will use this table to confirm the accuracy of the two columns. "
   ]
  },
  {
   "cell_type": "markdown",
   "metadata": {},
   "source": [
    "REVIEW_SCORES..\n",
    "\n",
    "Set of variables with scores for 6 different aspects of the listing: \n",
    "\n",
    "1. Rating: Variable with unknown origin, ranging from a score of 20 to 100 with a mean of 93\n",
    "2. Accuracy: Refers to the accuracy of the description\n",
    "3. Cleanliness: Speaks for itself. \n",
    "4. Checkin: Marks how smooth the host experienced its arrival and departure of the listing. \n",
    "5. Communication: Refers to the reactivity of the host in accurately fulfilling its host's requests. Should be correlated with host_response_time\n",
    "6. Location: Refers to the quality of the neighbourhood. \n",
    "7. Value: Could be interpreted as the fairness in the price/listing ratio. "
   ]
  },
  {
   "cell_type": "markdown",
   "metadata": {},
   "source": [
    "![**Figure Districts of Paris**](../images/EDA_review_scores.png)"
   ]
  },
  {
   "cell_type": "markdown",
   "metadata": {},
   "source": [
    "---"
   ]
  },
  {
   "cell_type": "markdown",
   "metadata": {},
   "source": [
    "# Initial Research Findings\n",
    "\n",
    "### Getting the Occupancy rate:\n",
    "\n",
    "Airbnb guests may leave a review after their stay, and these can be used as an indicator of airbnb activity (although not all guests leave a review, so the actual booking activity would be much higher). The occupancy rate according to Airbnb would be: \n",
    "\n",
    ">***Occupancy_rate = MAX(average_length_of_stay, minimum_nights)x(number_of_reviews)***\n",
    "\n",
    "An average length of stay is configured for each city, and this, multiplied by the estimated bookings for each listing over a period gives the occupancy rate. For Paris, the average_length_of_stay is set to 3 nights/booking \n",
    "\n",
    "**Things to consider:**\n",
    "\n",
    "- The listing's ancienty. A listing that just started in Airbnb is less likely to have as much reviews as an older listing. There's at least 7000 listings whose first review dates from this year! \n",
    "\n",
    "*To counteract the ancienty vs new listings bias, I will normalize the occupancy rate per month and assign its average rate as such. The dataset provides a column called reviews per month.*\n",
    "\n",
    "- The availability.  A listing with a high availability is susceptible to get more reviews and thus increasing its occupancy rate. An Airbnb host can setup a calendar for their listing so that it is only available for a few days or weeks a year. Other listings are available all year round (except for when it is already booked). This poses a problem as the availability cannot be considered an accurate measure since it can either show the number of days the listing is supposed to be available but it can also show the remaining days a listing hasn't yet been booked thus lowering its availability.\n",
    "\n",
    "***SCENARIO 1: ***The availability column means the number of days the listing is available per year, set by the host.\n",
    "\n",
    "If the availability column is considered, then those listings with 0 days available will have to be removed or their value set to a non-zero one. There are 13045 listings that have no availability available, aside from that, the average availability is 145 days. \n",
    "\n",
    "Airbnb divides these listings in two categories: High availability for those listings with more than 120 days available and low availability for the rest. In this analysis I will not categorize the listings in these two broad groups but simply assign a weight proportional to its own availability. \n",
    "\n",
    "Then the occupancy rate has to be capped by:\n",
    "\n",
    "> *** Average occupancy_rate per year <= min(1, (min_nights x booking_per_year)/days_available)***\n",
    "\n",
    ".. since the term *(min_nights x booking_per_year)/days_available* can be higher than 1 and therefore not fair for listings with low availability. \n",
    "\n",
    "In this scenario the occupancy rate distribution is boxploted below: "
   ]
  },
  {
   "cell_type": "markdown",
   "metadata": {},
   "source": [
    "![**Figure Districts of Paris**](../images/PROJ_Occupancy_rate_scenario_1.png)"
   ]
  },
  {
   "cell_type": "markdown",
   "metadata": {},
   "source": [
    "In this scenario the rate averages 0.752 and the median is 1. \n",
    "\n",
    "***SCENARIO 2*** The availability column refers to the days of the year that remain available and therefore there is no value in this variable as it doesnt describe the availability. The occupancy rate will be the one defined by Airbnb in the first case: \n",
    "\n",
    "> *Average occupancy_rate per year = min_nights x bookings per year = 12 x min_nights x reviews_per_month*\n",
    "\n",
    "where basically says that the higher the average of bookings (reviews) per year, the higher the rate and thus the minimum nights can be removed as it is just a constant. The distribution yielded: "
   ]
  },
  {
   "cell_type": "markdown",
   "metadata": {},
   "source": [
    "![**Figure Districts of Paris**](../images/PROJ_Occupancy_rate_scenario_2.png)"
   ]
  },
  {
   "cell_type": "markdown",
   "metadata": {},
   "source": [
    "___\n",
    "\n",
    "# Further Research and Analysis\n",
    "\n",
    "In order to get the most popular listings, the scenario #2 looks more promising as the occupancy rate shows a higher discriminatory power. The next steps are to determine the best listing according to the host qualities, listing specs, location (in terms of price and public transportation) and review scores. Thirdly I will insert the coordinates of the touristy places and get those listings that are closest and pull out the proportion of popular vs unpopular listings. \n",
    "\n",
    "There is room to implement association rules in variables such as amenities and host_verifications. As a host the re is interest in what sort of amenities are more apealing to guests. Which amenities can be considered luxurious and which are useless? "
   ]
  }
 ],
 "metadata": {
  "kernelspec": {
   "display_name": "Python 3",
   "language": "python",
   "name": "python3"
  },
  "language_info": {
   "codemirror_mode": {
    "name": "ipython",
    "version": 3
   },
   "file_extension": ".py",
   "mimetype": "text/x-python",
   "name": "python",
   "nbconvert_exporter": "python",
   "pygments_lexer": "ipython3",
   "version": "3.6.4"
  }
 },
 "nbformat": 4,
 "nbformat_minor": 2
}
