{
 "cells": [
  {
   "cell_type": "code",
   "execution_count": 1,
   "metadata": {},
   "outputs": [
    {
     "name": "stderr",
     "output_type": "stream",
     "text": [
      "/Users/iZbra1/anaconda/lib/python3.6/site-packages/matplotlib/__init__.py:1405: UserWarning: \n",
      "This call to matplotlib.use() has no effect because the backend has already\n",
      "been chosen; matplotlib.use() must be called *before* pylab, matplotlib.pyplot,\n",
      "or matplotlib.backends is imported for the first time.\n",
      "\n",
      "  warnings.warn(_use_error_msg)\n"
     ]
    }
   ],
   "source": [
    "# IMPORT VARIABLES, LIBRARIES AND FUNCTIONS\n",
    "%matplotlib inline\n",
    "from eda_funk import * # Stored functions and variables\n",
    "\n",
    "data = mybar_data\n",
    "\n",
    "int_data = '../data/raw/paris_reviews.csv'\n",
    "#usecols = host_col+loc_col+prop_col+guest_col+rvw_col\n",
    "# parse_dates=['host_since','first_review','last_review'], index_col=1, usecols=usecols\n",
    "reviews_data = pd.read_csv(int_data, parse_dates=['date'], usecols=['listing_id','date','id'])"
   ]
  },
  {
   "cell_type": "code",
   "execution_count": 7,
   "metadata": {},
   "outputs": [],
   "source": [
    "def get_reviews_per_month(): \n",
    "    int_data = '../data/raw/paris_reviews.csv'\n",
    "    reviews_data = pd.read_csv(int_data, parse_dates=['date'], usecols=['listing_id','date','id'])\n",
    "    # Get the number of reviews per month per listing\n",
    "    rpm = reviews_data.groupby(['listing_id','date']).agg({'id': 'count'}).unstack(level=0).resample(\"M\", how='sum').stack().reset_index()\n",
    "    # Get rid of the null rows\n",
    "    rpm = rpm.loc[rpm.id!=0]\n",
    "    # Rename id to reviews per month\n",
    "    rpm.rename(columns={'id':'review_per_month'}, inplace=True)\n",
    "    # Now group the df by listing and get the average of the review per month\n",
    "    return rpm.groupby('listing_id').mean()"
   ]
  },
  {
   "cell_type": "code",
   "execution_count": 8,
   "metadata": {},
   "outputs": [],
   "source": [
    "rvw_p_mnth = get_reviews_per_month()"
   ]
  },
  {
   "cell_type": "code",
   "execution_count": 10,
   "metadata": {},
   "outputs": [
    {
     "data": {
      "text/html": [
       "<div>\n",
       "<style scoped>\n",
       "    .dataframe tbody tr th:only-of-type {\n",
       "        vertical-align: middle;\n",
       "    }\n",
       "\n",
       "    .dataframe tbody tr th {\n",
       "        vertical-align: top;\n",
       "    }\n",
       "\n",
       "    .dataframe thead th {\n",
       "        text-align: right;\n",
       "    }\n",
       "</style>\n",
       "<table border=\"1\" class=\"dataframe\">\n",
       "  <thead>\n",
       "    <tr style=\"text-align: right;\">\n",
       "      <th></th>\n",
       "      <th>review_per_month</th>\n",
       "    </tr>\n",
       "    <tr>\n",
       "      <th>listing_id</th>\n",
       "      <th></th>\n",
       "    </tr>\n",
       "  </thead>\n",
       "  <tbody>\n",
       "    <tr>\n",
       "      <th>3109</th>\n",
       "      <td>1.250000</td>\n",
       "    </tr>\n",
       "    <tr>\n",
       "      <th>5396</th>\n",
       "      <td>1.750000</td>\n",
       "    </tr>\n",
       "    <tr>\n",
       "      <th>7397</th>\n",
       "      <td>2.691358</td>\n",
       "    </tr>\n",
       "    <tr>\n",
       "      <th>7964</th>\n",
       "      <td>1.000000</td>\n",
       "    </tr>\n",
       "    <tr>\n",
       "      <th>8522</th>\n",
       "      <td>1.000000</td>\n",
       "    </tr>\n",
       "  </tbody>\n",
       "</table>\n",
       "</div>"
      ],
      "text/plain": [
       "            review_per_month\n",
       "listing_id                  \n",
       "3109                1.250000\n",
       "5396                1.750000\n",
       "7397                2.691358\n",
       "7964                1.000000\n",
       "8522                1.000000"
      ]
     },
     "execution_count": 10,
     "metadata": {},
     "output_type": "execute_result"
    }
   ],
   "source": [
    "rvw_p_mnth.head()"
   ]
  },
  {
   "cell_type": "code",
   "execution_count": null,
   "metadata": {},
   "outputs": [],
   "source": []
  }
 ],
 "metadata": {
  "kernelspec": {
   "display_name": "Python 3",
   "language": "python",
   "name": "python3"
  },
  "language_info": {
   "codemirror_mode": {
    "name": "ipython",
    "version": 3
   },
   "file_extension": ".py",
   "mimetype": "text/x-python",
   "name": "python",
   "nbconvert_exporter": "python",
   "pygments_lexer": "ipython3",
   "version": "3.6.4"
  }
 },
 "nbformat": 4,
 "nbformat_minor": 2
}
