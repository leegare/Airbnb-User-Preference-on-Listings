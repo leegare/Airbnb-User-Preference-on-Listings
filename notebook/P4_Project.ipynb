{
 "cells": [
  {
   "cell_type": "code",
   "execution_count": 1,
   "metadata": {},
   "outputs": [
    {
     "name": "stdout",
     "output_type": "stream",
     "text": [
      "(39091, 29) (449, 4)\n"
     ]
    }
   ],
   "source": [
    "# IMPORT VARIABLES, LIBRARIES AND FUNCTIONS\n",
    "%matplotlib inline\n",
    "\n",
    "from analysis_funk import * # Stored functions and variables to plot the map of Paris\n",
    "from mvp_funk import * \n",
    "\n",
    "print(data.shape, paris_attractions.shape)"
   ]
  },
  {
   "cell_type": "markdown",
   "metadata": {},
   "source": [
    "# Initial Data Cleaning Approach and Exploratory Findings\n",
    "\n",
    "From the 91 columns, I filtered out 30 columns containing paragraphs of descriptions and reviews and variables that were unnecessary (correlated) or irrelevant to the analysis. On the second filter, columns with a high volume of missing or incorrect values got removed leaving the dataset with 49 pertinent columns. I then grouped them in 5 categories: Host qualities, Listing specs, Location data and Review scores.  \n",
    "\n",
    "#### Cleaning listings coordinates\n",
    "\n",
    "I found 3 types of innacuracies regarding the zipcodes, city name and coordinates. The zipcodes and the cities were either mispelled or unrelated. After standardizing the cities and zipcodes I grouped all the listings by zipcode and took the common city name to be the official name for the whole zipcode. The following figure shows the listings classified by color according to their zipcode.  "
   ]
  },
  {
   "cell_type": "markdown",
   "metadata": {},
   "source": [
    "![**Figure PRE original listings per zipcode**](../images/Centroids_and_original_listings.png)"
   ]
  },
  {
   "cell_type": "markdown",
   "metadata": {},
   "source": [
    "An LOF process showed 208 listings with either an incorrect zipcode or coordinates. I had to assume that the coordinates were correct so I proceeded to adjust the zipcode according to its nearest zipcode center of mass as shown below: "
   ]
  },
  {
   "cell_type": "markdown",
   "metadata": {},
   "source": [
    "![**Figure PRE original listings per zipcode**](../images/Centroids_and_final_listings.png)"
   ]
  },
  {
   "cell_type": "markdown",
   "metadata": {},
   "source": [
    "---\n",
    "## Getting the Occupancy rate:\n",
    "\n",
    "Airbnb guests may leave a review after their stay, and these can be used as an indicator of airbnb activity (although not all guests leave a review, so the actual booking activity would be much higher). The occupancy rate according to Airbnb would be: \n",
    "\n",
    ">***Occupancy_rate = MAX(average_length_of_stay, minimum_nights)x(number_of_reviews)***\n",
    "\n",
    "An average length of stay is configured for each city, and this, multiplied by the estimated bookings for each listing over a period gives the occupancy rate. For Paris, the average_length_of_stay is set to 3 nights/booking \n",
    "\n",
    "**Things to consider:**\n",
    "\n",
    "- The listing's ancienty. A listing that just started in Airbnb is less likely to have as much reviews as an older listing. There's at least 7000 listings whose first review dates from this year! \n",
    "\n",
    "*To counteract the ancienty vs new listings bias, I will normalize the occupancy rate per month and assign its average rate as such. The dataset provides a column called reviews per month.*\n",
    "\n",
    "- The availability.  A listing with a high availability is susceptible to get more reviews and thus increasing its occupancy rate. An Airbnb host can setup a calendar for their listing so that it is only available for a few days or weeks a year. Other listings are available all year round (except for when it is already booked). This poses a problem as the availability cannot be considered an accurate measure since it can either show the number of days the listing is supposed to be available but it can also show the remaining days a listing hasn't yet been booked thus lowering its availability.\n",
    "\n",
    "***SCENARIO 1: ***The availability column means the number of days the listing is available per year, set by the host.\n",
    "\n",
    "If the availability column is considered, then those listings with 0 days available will have to be removed or their value set to a non-zero one. There are 13045 listings that have no availability available, aside from that, the average availability is 145 days. \n",
    "\n",
    "Airbnb divides these listings in two categories: High availability for those listings with more than 120 days available and low availability for the rest. In this analysis I will not categorize the listings in these two broad groups but simply assign a weight proportional to its own availability. \n",
    "\n",
    "Then the occupancy rate has to be capped by:\n",
    "\n",
    "> *** occupancy_rate <= min(1, (min_nights x booking_per_year)/days_available)***\n",
    "\n",
    ".. since the term *(min_nights x booking_per_year)/days_available* can be higher than 1 and therefore not fair for listings with low availability. \n",
    "\n",
    "In this scenario the occupancy rate distribution is boxplotted below: "
   ]
  },
  {
   "cell_type": "markdown",
   "metadata": {},
   "source": [
    "#### *Choosing scenario 2 since the availability on scenario 1 doesnt have much of a discrimination power (since the median is the same as its 75% and 100% percentiles)*"
   ]
  },
  {
   "cell_type": "code",
   "execution_count": 154,
   "metadata": {},
   "outputs": [],
   "source": [
    "from bisect import bisect\n",
    "orate_dico = {0:5, 0.2:10, 0.4:15, 0.8:20, 0.9:25, 0.925:30, 0.95:35, 0.975:40, 1:75}\n",
    "orate = [0, 0.2, 0.4, 0.8, 0.9, 0.925, 0.95, 0.975, 1]\n",
    "\n",
    "\n",
    "def get_interval_on_rate(o_rate):\n",
    "    main_intrvl = orate[bisect(orate, o_rate)-1]\n",
    "    return orate_dico[main_intrvl]\n",
    "\n",
    "o_rate = data.loc[(data.zipcode<76000)&(data.occupancy_rate<1),['longitude','latitude','zipcode','occupancy_rate']]\n",
    "#o_rate ['interval_o_rate'] = o_rate.occupancy_rate.apply(get_interval_on_rate)"
   ]
  },
  {
   "cell_type": "markdown",
   "metadata": {},
   "source": [
    "In this scenario the rate averages 0.752 and the median is 1. \n",
    "\n",
    "***SCENARIO 2*** The availability column refers to the days of the year that remain available and therefore there is no value in this variable as it doesnt describe the availability. The occupancy rate will be the one defined by Airbnb in the first case: \n",
    "\n",
    "> *Average occupancy_rate per year = min_nights x bookings per year = 12 x min_nights x reviews_per_month*\n",
    "\n",
    "where basically says that the higher the average of bookings (reviews) per year, the higher the rate and thus the minimum nights can be removed as it is just a constant. The distribution yielded: "
   ]
  },
  {
   "cell_type": "code",
   "execution_count": 50,
   "metadata": {},
   "outputs": [
    {
     "data": {
      "image/png": "[encoded data removed]",
      "text/plain": [
       "<matplotlib.figure.Figure at 0x1a119af710>"
      ]
     },
     "metadata": {},
     "output_type": "display_data"
    }
   ],
   "source": [
    "data['occupancy_rate_2'] = [rpm*12*4.5 for rpm in data.reviews_per_month]\n",
    "fig = plt.figure(figsize = (20,2))\n",
    "sns.boxplot(data=data.loc[data.occupancy_rate_2<200,['occupancy_rate_2']], orient=\"h\")\n",
    "plt.title('Occupancy Rate a.k.a Average Reviews Per Year')\n",
    "plt.show()"
   ]
  },
  {
   "cell_type": "code",
   "execution_count": 51,
   "metadata": {},
   "outputs": [],
   "source": [
    "fig.savefig('../images/PROJ_Occupancy_rate_scenario_2.png', bbox_inches='tight')"
   ]
  },
  {
   "cell_type": "markdown",
   "metadata": {},
   "source": [
    "---"
   ]
  },
  {
   "cell_type": "markdown",
   "metadata": {},
   "source": [
    "## How can a grading system be implemented using the following parameters: \n",
    "- HOST_SUPERHOST: will have values 100 or 0\n",
    "- ROOM_TYPE: will be mapped with normalized values as such: \n",
    "'Entire home/apt' 100 pts, 'Private room' 50 pts and 'Shared room' 0 pts\n",
    "- BED_TYPE: will be mapped with normalized values as such: \n",
    "Real bed: 100 pts, Pull-out Sofa, Couch, Futon and Airbed: 50pts\n",
    "- BATHROOMS: will be normalized by 100 as the more bathrooms the fancier the listing is. \n",
    "- AMENITIES: has 100 for any listing with 100% of the essential amenities.   \n",
    "- REVIEW SCORES: They are already normalized scores. "
   ]
  },
  {
   "cell_type": "code",
   "execution_count": 2,
   "metadata": {},
   "outputs": [
    {
     "name": "stdout",
     "output_type": "stream",
     "text": [
      "Quantifying listings..\n"
     ]
    }
   ],
   "source": [
    "print('Quantifying listings..')\n",
    "\n",
    "# Set host_is_superhost values from 100 to 0\n",
    "data.host_is_superhost = data.host_is_superhost.apply(lambda x: x*100)\n",
    "# Map room type\n",
    "rt_map = {'Entire home/apt': 100, 'Private room': 50, 'Shared room':0}\n",
    "data.room_type = data.room_type.map(rt_map)\n",
    "# Map bed type\n",
    "bt_map = {'Real Bed': 100, 'Pull-out Sofa': 50, 'Airbed':50, 'Couch':0, 'Futon':0}\n",
    "data.bed_type = data.bed_type.map(bt_map)\n",
    "# Normalize bathrooms\n",
    "data.bathrooms = data.bathrooms.apply(lambda x: (x-data.bathrooms.min())/(data.bathrooms.max()-data.bathrooms.min()))\n",
    "# Normalize review scored by 100\n",
    "data.review_scores_accuracy = data.review_scores_accuracy.apply(lambda x: x*10)\n",
    "data.review_scores_cleanliness = data.review_scores_cleanliness.apply(lambda x: x*10)\n",
    "data.review_scores_checkin = data.review_scores_checkin.apply(lambda x: x*10)\n",
    "data.review_scores_communication = data.review_scores_communication.apply(lambda x: x*10)\n",
    "data.review_scores_value = data.review_scores_value.apply(lambda x: x*10)"
   ]
  },
  {
   "cell_type": "code",
   "execution_count": 5,
   "metadata": {},
   "outputs": [
    {
     "data": {
      "text/html": [
       "<div>\n",
       "<style scoped>\n",
       "    .dataframe tbody tr th:only-of-type {\n",
       "        vertical-align: middle;\n",
       "    }\n",
       "\n",
       "    .dataframe tbody tr th {\n",
       "        vertical-align: top;\n",
       "    }\n",
       "\n",
       "    .dataframe thead th {\n",
       "        text-align: right;\n",
       "    }\n",
       "</style>\n",
       "<table border=\"1\" class=\"dataframe\">\n",
       "  <thead>\n",
       "    <tr style=\"text-align: right;\">\n",
       "      <th></th>\n",
       "      <th>host_is_superhost</th>\n",
       "      <th>room_type</th>\n",
       "      <th>bed_type</th>\n",
       "      <th>bathrooms</th>\n",
       "      <th>amty_per</th>\n",
       "      <th>review_scores_accuracy</th>\n",
       "      <th>review_scores_cleanliness</th>\n",
       "      <th>review_scores_checkin</th>\n",
       "      <th>review_scores_communication</th>\n",
       "      <th>review_scores_value</th>\n",
       "    </tr>\n",
       "    <tr>\n",
       "      <th>listing_id</th>\n",
       "      <th></th>\n",
       "      <th></th>\n",
       "      <th></th>\n",
       "      <th></th>\n",
       "      <th></th>\n",
       "      <th></th>\n",
       "      <th></th>\n",
       "      <th></th>\n",
       "      <th></th>\n",
       "      <th></th>\n",
       "    </tr>\n",
       "  </thead>\n",
       "  <tbody>\n",
       "    <tr>\n",
       "      <th>17994</th>\n",
       "      <td>100</td>\n",
       "      <td>100</td>\n",
       "      <td>100</td>\n",
       "      <td>0.03</td>\n",
       "      <td>56.25</td>\n",
       "      <td>100.0</td>\n",
       "      <td>80.0</td>\n",
       "      <td>90.0</td>\n",
       "      <td>100.0</td>\n",
       "      <td>90.0</td>\n",
       "    </tr>\n",
       "    <tr>\n",
       "      <th>10607664</th>\n",
       "      <td>0</td>\n",
       "      <td>100</td>\n",
       "      <td>100</td>\n",
       "      <td>0.02</td>\n",
       "      <td>68.75</td>\n",
       "      <td>100.0</td>\n",
       "      <td>100.0</td>\n",
       "      <td>100.0</td>\n",
       "      <td>100.0</td>\n",
       "      <td>90.0</td>\n",
       "    </tr>\n",
       "    <tr>\n",
       "      <th>3304443</th>\n",
       "      <td>0</td>\n",
       "      <td>100</td>\n",
       "      <td>100</td>\n",
       "      <td>0.02</td>\n",
       "      <td>56.25</td>\n",
       "      <td>100.0</td>\n",
       "      <td>100.0</td>\n",
       "      <td>100.0</td>\n",
       "      <td>100.0</td>\n",
       "      <td>100.0</td>\n",
       "    </tr>\n",
       "    <tr>\n",
       "      <th>11155986</th>\n",
       "      <td>100</td>\n",
       "      <td>100</td>\n",
       "      <td>100</td>\n",
       "      <td>0.04</td>\n",
       "      <td>87.50</td>\n",
       "      <td>100.0</td>\n",
       "      <td>100.0</td>\n",
       "      <td>100.0</td>\n",
       "      <td>100.0</td>\n",
       "      <td>100.0</td>\n",
       "    </tr>\n",
       "    <tr>\n",
       "      <th>3393864</th>\n",
       "      <td>0</td>\n",
       "      <td>100</td>\n",
       "      <td>100</td>\n",
       "      <td>0.02</td>\n",
       "      <td>87.50</td>\n",
       "      <td>90.0</td>\n",
       "      <td>90.0</td>\n",
       "      <td>90.0</td>\n",
       "      <td>90.0</td>\n",
       "      <td>90.0</td>\n",
       "    </tr>\n",
       "  </tbody>\n",
       "</table>\n",
       "</div>"
      ],
      "text/plain": [
       "            host_is_superhost  room_type  bed_type  bathrooms  amty_per  \\\n",
       "listing_id                                                                \n",
       "17994                     100        100       100       0.03     56.25   \n",
       "10607664                    0        100       100       0.02     68.75   \n",
       "3304443                     0        100       100       0.02     56.25   \n",
       "11155986                  100        100       100       0.04     87.50   \n",
       "3393864                     0        100       100       0.02     87.50   \n",
       "\n",
       "            review_scores_accuracy  review_scores_cleanliness  \\\n",
       "listing_id                                                      \n",
       "17994                        100.0                       80.0   \n",
       "10607664                     100.0                      100.0   \n",
       "3304443                      100.0                      100.0   \n",
       "11155986                     100.0                      100.0   \n",
       "3393864                       90.0                       90.0   \n",
       "\n",
       "            review_scores_checkin  review_scores_communication  \\\n",
       "listing_id                                                       \n",
       "17994                        90.0                        100.0   \n",
       "10607664                    100.0                        100.0   \n",
       "3304443                     100.0                        100.0   \n",
       "11155986                    100.0                        100.0   \n",
       "3393864                      90.0                         90.0   \n",
       "\n",
       "            review_scores_value  \n",
       "listing_id                       \n",
       "17994                      90.0  \n",
       "10607664                   90.0  \n",
       "3304443                   100.0  \n",
       "11155986                  100.0  \n",
       "3393864                    90.0  "
      ]
     },
     "execution_count": 5,
     "metadata": {},
     "output_type": "execute_result"
    }
   ],
   "source": [
    "l_col = ['host_is_superhost','room_type','bed_type','bathrooms','amty_per','review_scores_accuracy','review_scores_cleanliness','review_scores_checkin','review_scores_communication','review_scores_value']\n",
    "data[l_col].head()"
   ]
  },
  {
   "cell_type": "code",
   "execution_count": 10,
   "metadata": {},
   "outputs": [
    {
     "data": {
      "text/html": [
       "<div>\n",
       "<style scoped>\n",
       "    .dataframe tbody tr th:only-of-type {\n",
       "        vertical-align: middle;\n",
       "    }\n",
       "\n",
       "    .dataframe tbody tr th {\n",
       "        vertical-align: top;\n",
       "    }\n",
       "\n",
       "    .dataframe thead th {\n",
       "        text-align: right;\n",
       "    }\n",
       "</style>\n",
       "<table border=\"1\" class=\"dataframe\">\n",
       "  <thead>\n",
       "    <tr style=\"text-align: right;\">\n",
       "      <th></th>\n",
       "      <th>zipcode</th>\n",
       "      <th>latitude</th>\n",
       "      <th>longitude</th>\n",
       "      <th>best_listings</th>\n",
       "    </tr>\n",
       "    <tr>\n",
       "      <th>listing_id</th>\n",
       "      <th></th>\n",
       "      <th></th>\n",
       "      <th></th>\n",
       "      <th></th>\n",
       "    </tr>\n",
       "  </thead>\n",
       "  <tbody>\n",
       "    <tr>\n",
       "      <th>18385589</th>\n",
       "      <td>75002</td>\n",
       "      <td>48.871</td>\n",
       "      <td>2.339</td>\n",
       "      <td>90.008</td>\n",
       "    </tr>\n",
       "    <tr>\n",
       "      <th>11815308</th>\n",
       "      <td>75016</td>\n",
       "      <td>48.865</td>\n",
       "      <td>2.288</td>\n",
       "      <td>90.006</td>\n",
       "    </tr>\n",
       "    <tr>\n",
       "      <th>5217824</th>\n",
       "      <td>75001</td>\n",
       "      <td>48.866</td>\n",
       "      <td>2.326</td>\n",
       "      <td>90.006</td>\n",
       "    </tr>\n",
       "    <tr>\n",
       "      <th>11522022</th>\n",
       "      <td>75017</td>\n",
       "      <td>48.883</td>\n",
       "      <td>2.297</td>\n",
       "      <td>90.006</td>\n",
       "    </tr>\n",
       "    <tr>\n",
       "      <th>195927</th>\n",
       "      <td>75018</td>\n",
       "      <td>48.882</td>\n",
       "      <td>2.341</td>\n",
       "      <td>90.005</td>\n",
       "    </tr>\n",
       "  </tbody>\n",
       "</table>\n",
       "</div>"
      ],
      "text/plain": [
       "            zipcode  latitude  longitude  best_listings\n",
       "listing_id                                             \n",
       "18385589      75002    48.871      2.339         90.008\n",
       "11815308      75016    48.865      2.288         90.006\n",
       "5217824       75001    48.866      2.326         90.006\n",
       "11522022      75017    48.883      2.297         90.006\n",
       "195927        75018    48.882      2.341         90.005"
      ]
     },
     "execution_count": 10,
     "metadata": {},
     "output_type": "execute_result"
    }
   ],
   "source": [
    "params_listings = data.loc[:,l_col]\n",
    "params_listings['best_listings'] = params_listings.mean(axis=1)\n",
    "\n",
    "best_listings = pd.merge(data[['zipcode','latitude','longitude']], params_listings[['best_listings']], right_index=True, left_index=True)\n",
    "best_listings.sort_values('best_listings',ascending=False).head()"
   ]
  },
  {
   "cell_type": "code",
   "execution_count": 8,
   "metadata": {},
   "outputs": [
    {
     "data": {
      "image/png": "[encoded data removed]",
      "text/plain": [
       "<matplotlib.figure.Figure at 0x10e61c2b0>"
      ]
     },
     "metadata": {},
     "output_type": "display_data"
    }
   ],
   "source": [
    "fig = plt.figure(figsize = (20,2))\n",
    "sns.boxplot(data=best_listings.loc[:,['best_listings']], orient=\"h\")\n",
    "best_listings.best_listings.plot(kind='kde',c='orange', linewidth=5, alpha=0.5)\n",
    "plt.show()"
   ]
  },
  {
   "cell_type": "markdown",
   "metadata": {},
   "source": [
    "---"
   ]
  },
  {
   "cell_type": "markdown",
   "metadata": {},
   "source": [
    "## What is the proportion of listings per district?\n",
    "- What is the average PRICE of listings per district? Are there districts that can be considerably high or low? Consider the space\n",
    "- What is the occupancy rate per district? \n",
    "- What is the proportion of attractions per district? Does it correlate with the average price of the district? \n",
    "- 'review_scores_location',"
   ]
  },
  {
   "cell_type": "code",
   "execution_count": null,
   "metadata": {},
   "outputs": [],
   "source": [
    "# Boxplot the price per zipcode. \n"
   ]
  },
  {
   "cell_type": "code",
   "execution_count": 12,
   "metadata": {},
   "outputs": [
    {
     "data": {
      "text/html": [
       "<div>\n",
       "<style scoped>\n",
       "    .dataframe tbody tr th:only-of-type {\n",
       "        vertical-align: middle;\n",
       "    }\n",
       "\n",
       "    .dataframe tbody tr th {\n",
       "        vertical-align: top;\n",
       "    }\n",
       "\n",
       "    .dataframe thead th {\n",
       "        text-align: right;\n",
       "    }\n",
       "</style>\n",
       "<table border=\"1\" class=\"dataframe\">\n",
       "  <thead>\n",
       "    <tr style=\"text-align: right;\">\n",
       "      <th></th>\n",
       "      <th>price</th>\n",
       "    </tr>\n",
       "    <tr>\n",
       "      <th>zipcode</th>\n",
       "      <th></th>\n",
       "    </tr>\n",
       "  </thead>\n",
       "  <tbody>\n",
       "    <tr>\n",
       "      <th>75020</th>\n",
       "      <td>55.0</td>\n",
       "    </tr>\n",
       "    <tr>\n",
       "      <th>75019</th>\n",
       "      <td>60.0</td>\n",
       "    </tr>\n",
       "    <tr>\n",
       "      <th>75018</th>\n",
       "      <td>65.0</td>\n",
       "    </tr>\n",
       "    <tr>\n",
       "      <th>75013</th>\n",
       "      <td>65.0</td>\n",
       "    </tr>\n",
       "    <tr>\n",
       "      <th>75012</th>\n",
       "      <td>65.0</td>\n",
       "    </tr>\n",
       "    <tr>\n",
       "      <th>75014</th>\n",
       "      <td>68.0</td>\n",
       "    </tr>\n",
       "    <tr>\n",
       "      <th>75017</th>\n",
       "      <td>70.0</td>\n",
       "    </tr>\n",
       "    <tr>\n",
       "      <th>75011</th>\n",
       "      <td>70.0</td>\n",
       "    </tr>\n",
       "    <tr>\n",
       "      <th>75010</th>\n",
       "      <td>70.0</td>\n",
       "    </tr>\n",
       "    <tr>\n",
       "      <th>75015</th>\n",
       "      <td>79.0</td>\n",
       "    </tr>\n",
       "    <tr>\n",
       "      <th>75009</th>\n",
       "      <td>85.0</td>\n",
       "    </tr>\n",
       "    <tr>\n",
       "      <th>75005</th>\n",
       "      <td>90.0</td>\n",
       "    </tr>\n",
       "    <tr>\n",
       "      <th>75016</th>\n",
       "      <td>90.0</td>\n",
       "    </tr>\n",
       "    <tr>\n",
       "      <th>75002</th>\n",
       "      <td>98.0</td>\n",
       "    </tr>\n",
       "    <tr>\n",
       "      <th>75007</th>\n",
       "      <td>100.0</td>\n",
       "    </tr>\n",
       "    <tr>\n",
       "      <th>75003</th>\n",
       "      <td>100.0</td>\n",
       "    </tr>\n",
       "    <tr>\n",
       "      <th>75006</th>\n",
       "      <td>110.0</td>\n",
       "    </tr>\n",
       "    <tr>\n",
       "      <th>75004</th>\n",
       "      <td>110.0</td>\n",
       "    </tr>\n",
       "    <tr>\n",
       "      <th>75001</th>\n",
       "      <td>113.0</td>\n",
       "    </tr>\n",
       "    <tr>\n",
       "      <th>75008</th>\n",
       "      <td>120.0</td>\n",
       "    </tr>\n",
       "  </tbody>\n",
       "</table>\n",
       "</div>"
      ],
      "text/plain": [
       "         price\n",
       "zipcode       \n",
       "75020     55.0\n",
       "75019     60.0\n",
       "75018     65.0\n",
       "75013     65.0\n",
       "75012     65.0\n",
       "75014     68.0\n",
       "75017     70.0\n",
       "75011     70.0\n",
       "75010     70.0\n",
       "75015     79.0\n",
       "75009     85.0\n",
       "75005     90.0\n",
       "75016     90.0\n",
       "75002     98.0\n",
       "75007    100.0\n",
       "75003    100.0\n",
       "75006    110.0\n",
       "75004    110.0\n",
       "75001    113.0\n",
       "75008    120.0"
      ]
     },
     "execution_count": 12,
     "metadata": {},
     "output_type": "execute_result"
    }
   ],
   "source": [
    "listings_per_zipcode = data.reset_index().loc[:,['price','zipcode']].groupby('zipcode').median()\n",
    "listings_per_zipcode.sort_values('price')"
   ]
  },
  {
   "cell_type": "code",
   "execution_count": 14,
   "metadata": {},
   "outputs": [],
   "source": [
    "# Plot heat map  the results above to see which districts are cheaper and which ones are not. "
   ]
  },
  {
   "cell_type": "markdown",
   "metadata": {},
   "source": [
    "#### Knn for every attraction or for every cluster of attractions? \n",
    "- Every attraction will have its neighbor listing (listing_id) and its distance. \n",
    "- How can n be optimized? or a threshold in the distance can set it. Like a **percentile**\n",
    "- The distance might not vary drastically as there are a lot of listings pretty much everywhere. So defining a threshold might be difficult. \n",
    "- How will repeated listings be handled? Two or more attractions may have the same listing near. Can that be rewarded?  "
   ]
  },
  {
   "cell_type": "code",
   "execution_count": null,
   "metadata": {},
   "outputs": [],
   "source": [
    "x = []"
   ]
  },
  {
   "cell_type": "markdown",
   "metadata": {},
   "source": [
    "#### KNN for every listing and its n (~20, 40, 60) nearest attractions\n",
    "- Can there be a ranking of every listing and it's average distance to its n nearest attractions? Like the listing with the smallest average (or 1st quartile) distance will be the best listing in terms of location. "
   ]
  },
  {
   "cell_type": "markdown",
   "metadata": {},
   "source": [
    "---"
   ]
  },
  {
   "cell_type": "code",
   "execution_count": null,
   "metadata": {},
   "outputs": [],
   "source": [
    "print_map(paris_attractions, res = 'c', arrn_lim = False, title_map='Paris Attractions', l_size=5, l_color = 'firebrick', l_alf=1)\n"
   ]
  },
  {
   "cell_type": "markdown",
   "metadata": {},
   "source": [
    "___\n",
    "\n",
    "# Further Research and Analysis\n",
    "\n",
    "Analyze more the occupancy rate. Listings (old and new) which have availability only in the high season vs those available in both seasons. \n",
    "\n",
    "There is room to implement association rules in variables such as amenities and host_verifications. \n",
    "What are rare amenities and which ones are the most common? are most rare amenities considered luxurious? which of them can be considered as such? Which categories can be considered luxurious?\n",
    "\n",
    "Im curious what do listings that have 0 amenities, have to offer... do they have a non-null value for the accomodates and guest_included values?\n",
    "\n",
    "\n",
    "\n",
    "NLP: What is the evolution of good reviews for a particular listing? Is there an associative rule? \n",
    "\n",
    "Is Paris visited mostly by romantic couples or party animals?\n",
    "    - Check the house_rules\n",
    "\n",
    "Time series?? \n",
    "\n",
    "Sense of space? How spatious are the listings? Can we define it using some of these columns? Like # of beds and bathrooms, amenities etc... \n",
    "\n",
    "Fairness of the judgement. There is some inequality here as the listings ancienty is not very well considered here. "
   ]
  },
  {
   "cell_type": "markdown",
   "metadata": {},
   "source": [
    "# Appendix\n",
    "1. This is the format of the html code scraped to get the coordinates of some of the tourist attractions in Paris. "
   ]
  },
  {
   "cell_type": "markdown",
   "metadata": {},
   "source": [
    "https://latitude.to/map/fr/france/cities/paris\n",
    "<ul>\n",
    "<li>\n",
    "    <article>\n",
    "    <h3 class=\"title\">\n",
    "        <a href=\"/map/fr/france/cities/paris/articles/6/eiffel-tower\" title=\"GPS Coordinates of Eiffel Tower\">Eiffel Tower</a>\n",
    "    </h3>\n",
    "    <p>The \n",
    "        <b>Eiffel Tower</b> (French: <span lang=\"fr\" xml:lang=\"fr\">\n",
    "        <b>La tour Eiffel</b></span>, \n",
    "        <span title=\"Representation in the International Phonetic Alphabet (IPA)\">[tuʁ ɛfɛl]</span>) is an iron lattice tower located on the Champ de Mars in Paris, France. It was named after the engineer Alexandre Gustave Eiffel, whose company designed and built the tower. Erected in 1889 as th…\n",
    "    </p>\n",
    "    <div class=\"act\">\n",
    "        <a class=\"show\" data-lat=\"48.8583\" data-center-idx=\"w0\" data-lng=\"2.2945\" href=\"#lfmap\" title=\"Show Eiffel Tower in map\" data-zoom=\"14\">\n",
    "            <i class=\"material-icons\"></i> Show in map</a>\n",
    "        <a href=\"/map/fr/france/cities/paris/articles/6/eiffel-tower\" title=\"GPS Coordinates of Eiffel Tower, France\">\n",
    "            <i class=\"material-icons\"></i> Show coordinates</a>\n",
    "    </div>\n",
    "    </article>\n",
    "</li>\n",
    "\n",
    "\n"
   ]
  }
 ],
 "metadata": {
  "kernelspec": {
   "display_name": "Python 3",
   "language": "python",
   "name": "python3"
  },
  "language_info": {
   "codemirror_mode": {
    "name": "ipython",
    "version": 3
   },
   "file_extension": ".py",
   "mimetype": "text/x-python",
   "name": "python",
   "nbconvert_exporter": "python",
   "pygments_lexer": "ipython3",
   "version": "3.6.4"
  }
 },
 "nbformat": 4,
 "nbformat_minor": 2
}
