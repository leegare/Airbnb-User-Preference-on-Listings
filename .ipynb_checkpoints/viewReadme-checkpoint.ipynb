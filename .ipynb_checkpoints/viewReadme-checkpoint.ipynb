{
 "cells": [
  {
   "cell_type": "markdown",
   "metadata": {},
   "source": [
    "# Airbnb: Hosting the location or the property? \n",
    "---\n",
    "# Introduction\n",
    "\n",
    "Tourism is a major business in pretty much every country who has places and experiences to offer and catch the interest of foreigners. Essential services for the tourists ranging from restaurants to hotels have flourished and we've seen the company Airbnb enter in a peculiar manner. \n",
    "\n",
    "In the old days when hotels were sparse, tourists had no choice of its location so they resorted to choose establishments with other appealing features. Then came Airbnb and democratized the location giving tourists the option to get places nearby the touristy attractions. \n",
    "\n",
    "I'd like to understand how tourists make choices involving hotel hunting and in order to have an accurate study a huge dataset is needed. A city with a myriad of listings has to be a city in the top ten places to visit and among them, there are no best candidates than Paris in France. The tourist capital of the world, with a breaking record 40 million tourists per year, Paris is prepared to welcome them. \n",
    "\n",
    "---\n",
    "\n",
    "# Background\n",
    "\n",
    "Having lived in Paris for 4 years I became a francophiliac. To avoid forgetting the beautiful language they speak I keep up with the actualities in France and I was getting updates when I stumbled with this video that caught my attention:(https://www.youtube.com/watch?v=Iywwa3wfhoU&t=35s). It's about Airbnb and its disruptive innovation that is affecting the residential housing in tourist-concentrated cities like Barcelona and Paris.\n",
    "\n",
    "This analysis aims to answer the following question: \n",
    "___\n",
    "# *Are Airbnb guests more interested in listings that are in convenient neighbourhoods regardless of the condition of the property?*\n",
    "---\n",
    "# Questions and Goals\n",
    "\n",
    "*To answer the above question, the **occupancy rate** of each listing needs to be calculated as it is the actual popularity rating according to Airbnb and it's not provided by the dataset. Secondly this project will aim to answer the following questions:*\n",
    "\n",
    "#### I. Where are the best listings? \n",
    "- What parameters define a popular listing? \n",
    "\n",
    "#### II. Which are Paris' convenient neighbourhoods to stay at?\n",
    "- Define best/worst neighbourhoods with respect to the proximity to tourist attractions, parks and recreations.  "
   ]
  },
  {
   "cell_type": "markdown",
   "metadata": {},
   "source": [
    "---\n",
    "# Schema\n",
    "\n",
    "![**Figure PRE original listings per zipcode**](images/PROJ_schema.png)"
   ]
  },
  {
   "cell_type": "markdown",
   "metadata": {},
   "source": [
    "---\n",
    "# The Dataset\n",
    "\n",
    "The data is taken from http://insideairbnb.com/get-the-data.html where the website offers popular city listings updated to this year. The data can be summarized in 6 categories: host, listing's summary, listing's specs, guest, location and reviews. \n",
    "\n",
    "Originally the dataset held 62848 listings described in 91 columns. These listings have been collected from 2009 to this year. \n",
    "\n",
    "The location information for listings are anonymized by Airbnb. In practice, this means the location (latitude and longitude) for a listing on the map, or in the data will be from 0-450 feet (150 metres) of the actual address.\n",
    "\n",
    "Neighbourhood names for each listing are compiled by comparing the listing's geographic coordinates with a city's definition of neighbourhoods. Airbnb neighbourhood names are not used because of their inaccuracies."
   ]
  },
  {
   "cell_type": "markdown",
   "metadata": {},
   "source": [
    "---\n",
    "# Initial Data Cleaning Approach and Exploratory Findings\n",
    "\n",
    "From the 91 columns, I filtered out 30 columns containing paragraphs of descriptions and reviews and variables that were unnecessary (correlated) or irrelevant to the analysis. On the second filter, columns with a high volume of missing or incorrect values got removed leaving the dataset with 49 pertinent columns. I then grouped them in 5 categories: Host qualities, Listing specs, Location data and Review scores.  \n",
    "\n",
    "## Cleaning listings coordinates\n",
    "\n",
    "I found 3 types of innacuracies regarding the zipcodes, city name and coordinates. The zipcodes and the cities were either mispelled or unrelated. After standardizing the cities and zipcodes I grouped all the listings by zipcode and took the common city name to be the official name for the whole zipcode. The following figure shows the listings classified by color according to their zipcode.  \n",
    "\n",
    "![**Figure PRE original listings per zipcode**](images/Centroids_and_original_listings.png)\n",
    "\n",
    "It can be seen that some listings have incorrect zipcodes or coordinates as there are specs of a different color in a cluster of a different color. I used an **LOF** algorithm to select these outliers and it returned with 208 listings with either an incorrect zipcode or coordinates. I have to assume that the coordinates were correct so I proceeded to adjust the zipcode according to its **nearest zipcode center of mass** (1-nn) as shown below: \n",
    "\n",
    "![**Figure PRE original listings per zipcode**](images/Centroids_and_final_listings.png)\n",
    "\n"
   ]
  },
  {
   "cell_type": "markdown",
   "metadata": {},
   "source": [
    "This technique yielded good results for an unsupervised approach."
   ]
  },
  {
   "cell_type": "markdown",
   "metadata": {},
   "source": [
    "---\n",
    "## EDA: What are the factors that we can use to consider a good listing?\n",
    "\n",
    "### *In host qualities:*\n",
    "\n",
    "HOST_IS_SUPERHOST \n",
    "\n",
    "It's a boolean value where a host acquires the status of **superhost** when they provide great stays for every guest. That is highly rated (4.8+ Overall rating), responsive (respond within 24 hours at least 90% of the time), active (host at least 10 stays a year) and reliable (honor every reservation unless there’s an extenuating circumstance). \n",
    "\n",
    "The dataset shows that 88% of the hosts are super hosts, so Congratulations Paris! \n",
    "\n",
    "### *About the listing's specs:*\n",
    "\n",
    "ROOM TYPE\n",
    "\n",
    "It can be safe to assume that the best listings will offer entire homes or appartments at the guests disposition, in Paris 88% of the listings are full homes or appartments (the latter might be a more accurate guess), then 12% offer private rooms and only 0.7% shared rooms. \n",
    "\n",
    "BED TYPE\n",
    "\n",
    "The best listings will have at least a real bed.\n",
    "\n",
    "The figure below shows that most listings have promising specs that will increase their score in popularity. \n",
    "\n",
    "![**Figure Room&Bed Types**](images/EDA_room_n_bed_types.png)\n",
    "\n",
    "BEDS & BATHROOMS\n",
    "\n",
    "If there are no bathrooms within the room or appartment, that can be inconvenient. The number of bathrooms range from 0 to 8 where 88% of the listings have 1 bathroom and 55% have 1 bed. On the other hand there are 33 listings that have no bathroom since they are not part of the common types of room. It turns out they are seminar rooms, showrooms, studios and \"chambre de bonne\" which are also studios located on the last floor and where the WC is outside somewhere along the corridor. \n",
    "\n",
    "The score will consider listings with at least 1 bathroom. \n",
    "\n",
    "There are 34 listings that dont list a bed at all. They must've forgot as they are all entire homes/apts with 0 real beds who can accommodate 2 to 7 guests and 1 to 4 extra people. So there is no such thing as a listing without beds, unless it's a seminary or showroom. Since I'm looking for factors that can affect the quality of the listing, the number of beds doesnt matter. \n",
    "\n",
    "AMENITIES\n",
    "    \n",
    "When it comes to amenities, decent listings should have the *essential* ones plus some more to add color and value to the listing. The **best listings** have at least the essential amenities and that's why Airbnb provides and option called \"Essentials\" and 94% listings did checked it. However it is unknown what the essentials contain. There are 136 unique amenities that I've simply categorized in 10 groups. \n",
    "\n",
    "![**Figure Amenities**](images/EDA_amenities_presence.png)\n",
    "\n",
    "The figure above shows the normalized presence of each category (of amenities) in the dataset (in blue) and the size of each category (in yellow). It can be interpreted that many listings have more of electronic amenities or entertainment related than amenities related to safety and security or accessibility. \n",
    "\n",
    "From the graph above one would intuitively say that as long as there are amenities refering to electronics and entertainment, the listing might have a high score. Cross checking the list of amenities of the listings that claimed to have the essential ones with those who didnt, the essential amenities are the following along with it the percentage of listings that have them: \n",
    "\n",
    "![**Figure Amenities**](images/EDA_Essential Amenities.png)\n",
    "\n",
    "MINIMUM AND MAXIMUM NIGHTS\n",
    "\n",
    "These are pieces of data that will help defining the occupancy rate. There appears to be 11 outliers in the minimum_nights with a values greater than 500. On the maximum nights side there are 22618 listings with values higher than 365. Cutting off the outliers the average value is 4.5 nights, I will use this as a standard value to get the occupancy rate. \n",
    "\n",
    "ZIPCODE\n",
    "\n",
    "The dataset shows 50 unique zipcodes and 50 unique cities (or districts) where Paris has approximately 20 zipcodes (or the number of its districts a.k.a arrondissements) and the remaining zipcodes greater than 75020 correspond to the suburbs. There are 269 listings in the suburbs, a number so negligeable it will not affect the results if removed from the dataset. \n",
    "\n",
    "### *From the review section* \n",
    "\n",
    "NUMBER_OF_REVIEWS & REVIEWS_PER_MONTH\n",
    "\n",
    "These descriptors will help in defining the **occupancy rate** which is the key factor of a good listing. The more reviews, the higher the occupancy rate, the higher the occupancy rate, the better the listing. \n",
    "    \n",
    "Listings have 22 total reviews in average, this is considering old and new listings. A definite outlier has a bit over 600 reviews!! \n",
    "As for the reviews_per_month column there is listing #11034796 which is the only one having more than 50 reviews per month (224 to be exact) so without considering it the average reviews per month is 1. \n",
    "\n",
    "The dataset also provides a reviews csv file containing 1074759 reviews with its listing_id, date, reviewer_id and the review itself. I will use this table to confirm the accuracy of the two columns. \n",
    "\n",
    "REVIEW_SCORES..\n",
    "\n",
    "Set of variables with scores for 6 different aspects of the listing: \n",
    "\n",
    "1. Rating: Variable with unknown origin, ranging from a score of 20 to 100 with a mean of 93\n",
    "2. Accuracy: Refers to the accuracy of the description\n",
    "3. Cleanliness: Guests will evaluate the hygiene levels of the listing\n",
    "4. Checkin: Marks how smooth the guest experienced its arrival and departure of the listing. \n",
    "5. Communication: Refers to the reactivity of the host in accurately fulfilling its host's requests. Should be correlated with host_response_time\n",
    "6. Location: Refers to the quality of the neighbourhood. \n",
    "7. Value: Could be interpreted as the fairness in the price/listing ratio. \n",
    "\n",
    "![**Figure Districts of Paris**](images/EDA_review_scores.png)\n",
    "\n"
   ]
  },
  {
   "cell_type": "markdown",
   "metadata": {},
   "source": [
    "---\n",
    "# Results"
   ]
  },
  {
   "cell_type": "markdown",
   "metadata": {},
   "source": [
    "## Getting the Listings review rate:\n",
    "\n",
    "To get the popular listing its score will be calculated in function of the following parameters: \n",
    "\n",
    "- HOST_SUPERHOST: will have values 100 or 0\n",
    "- ROOM_TYPE: will be mapped with normalized values as such: \n",
    "'Entire home/apt' 100 pts, 'Private room' 50 pts and 'Shared room' 0 pts\n",
    "- BED_TYPE: will be mapped with normalized values as such: \n",
    "Real bed: 100 pts, Pull-out Sofa, Couch, Futon and Airbed: 50pts\n",
    "- BATHROOMS: will be normalized by 100 as the more bathrooms the fancier the listing is. \n",
    "- AMENITIES: has 100 for any listing with 100% of the essential amenities.   \n",
    "- REVIEW SCORES: They are already normalized scores. \n",
    "\n",
    "\n",
    "![**Figure Districts of Paris**](images/PROJ_listing_review_rate.png)\n"
   ]
  },
  {
   "cell_type": "markdown",
   "metadata": {},
   "source": [
    "---\n",
    "## Getting the Occupancy rate:\n",
    "\n",
    "Airbnb guests may leave one review after their stay, therefore it can be used as an indicator of airbnb activity. However this option is not obligatory and therefore not all guests leave a review, so the actual booking activity could be much higher. Assuming that this practice of leaving reviews is constant.  The occupancy rate according to Airbnb would be: \n",
    "\n",
    ">***Occupancy_rate = MAX(average_length_of_stay, minimum_nights)x(number_of_reviews)***\n",
    "\n",
    "An average length of stay is configured for each city, multiplied by the estimated bookings for each listing over a period gives the occupancy rate. In this dataset, the average_length_of_stay is set to 4.5 nights. \n",
    "\n",
    "Some things to consider is that a listing that just started hosting with Airbnb is less likely to have as much reviews as an older listing. There's at least 7000 listings whose first review dates from this year! To counteract the \"old vs new\" bias, I will normalize the occupancy rate per month. \n",
    "\n",
    "A listing with high availability is susceptible to get more reviews and thus a higher occupancy rate. An Airbnb host can setup a calendar for their listing so that it's only available for a few days or weeks a year.  Other listings are available all year round (except for when it is already booked). \n",
    "\n",
    "This poses an ambiguity problem since it can either mean the number of days the listing is supposed to be available all year roudn but it can also mean the remaining days a listing is available for booking thus having a low availability. \n",
    "\n",
    "In order to get an accurate rate, I will not consider the availability. So the formula shorts to: \n",
    "\n",
    "> ***Average occupancy rate per month = minimum nights x average reviews per month***\n",
    "\n",
    "..which basically says that the higher the rate of bookings (reviews) per month, the higher the occupancy rate and thus the minimum nights can be removed as it's just a constant. The distribution yielded not a very wide spreaded shape. \n",
    "\n",
    "Most listings have a really low rate compared to few of their fellow outlier listings, the next steps are an attempt to extend the spectrum of normal rate listings and compress that of the outliers. \n",
    "\n",
    "An attempt to exploit the discriminating power of this rate is to truncate those outliers to the q3+1.5x(IQR) value.\n",
    "\n",
    "The figure below shows the listings and their occurence rate in green for a high rate value and blue for a lower one\n",
    "\n",
    "![**Figure Districts of Paris**](images/PROJ_Occupancy_rate_map.png)"
   ]
  },
  {
   "cell_type": "markdown",
   "metadata": {},
   "source": [
    "---\n",
    "## Getting the Location score:\n",
    "\n",
    "This score will reflect the proximity and amount of each and every listing to any of the touristy attractions the city has to offer. \n",
    "\n",
    "It begins by getting all the **euclidean distances** from every listing to all of the attractions (~400). Then I  define a variable called *top_dist* which is the longest distance (among all listings) to its closest attraction. In other words a 1-NN for every listing to its nearest attraction will yield a set of distances from which *top_dist* will be the maximum of that set. That way at least one listing will have 1 attraction near. \n",
    "\n",
    "Then the number of attractions within the determined perimiter will add up to the score. Finally the score is normalized and shown colorfully in the figure below: \n",
    "\n",
    "![**Figure Districts of Paris**](images/PROJ_location_rate.png)"
   ]
  },
  {
   "cell_type": "markdown",
   "metadata": {},
   "source": [
    "---\n",
    "# Conclusion"
   ]
  },
  {
   "cell_type": "markdown",
   "metadata": {},
   "source": [
    "Comparing both distributions (location score and listing's score) with the occupancy score in the figure below \n",
    "\n",
    "![**Figure Districts of Paris**](images/PROJ_score_distributions.png)"
   ]
  },
  {
   "cell_type": "markdown",
   "metadata": {},
   "source": [
    "A majority of listings have a low occupancy rate, for those with a slightly higher occupancy rate (0.4-0.6) are well located with nearby attractions. Popular listings seem to be within a good location (having a location score of 0.6 to 0.8) and enjoying a high oocupancy rate. "
   ]
  },
  {
   "cell_type": "markdown",
   "metadata": {},
   "source": [
    "___\n",
    "# Limitations and Further Exploration\n",
    "\n",
    "There is room to implement association rules in variables such as amenities and host_verifications. As a host there is interest in what sort of amenities are more apealing to guests and how they use them.\n",
    "\n",
    "The analysis on the occupancy rate has to consider the listing's **availability score** and its underlying effects. A listing with higher availability will have a certain advantage on its occupancy rate over a listing that is just available 1 time of the year. Moreover listings that are only available during the high seasons will differ in score with those open for low seasons. \n",
    "\n",
    "In this analysis the price was not considered due to the lack of time, however it can certainly provide insights on how guests are choosing their listings. Airbnb provides in its search module a price interval reflecting the guest's budget. A convenient listing should have a reasonable linear price/quality ratio. However the price is also based on the location of the listing. It is known that in most European cities the further you move away from the center the cheaper everything becomes. In Paris, this can be true except for certain districts like the 16th which is known to be quite expensive. In future analysis this trinomial relationship can offer promising insights. \n",
    "\n",
    "Finally this dataset also provides another csv file with all the reviews of the listings. It might be interesting to use some NLP techniques to see the evolution of listings in terms of popularity. "
   ]
  },
  {
   "cell_type": "markdown",
   "metadata": {},
   "source": [
    "___\n",
    "# Appendix\n",
    "1. This is the format of the html code scraped to get the coordinates of some of the tourist attractions in Paris. "
   ]
  },
  {
   "cell_type": "markdown",
   "metadata": {},
   "source": [
    "https://latitude.to/map/fr/france/cities/paris\n",
    "<ul>\n",
    "<li>\n",
    "    <article>\n",
    "    <h3 class=\"title\">\n",
    "        <a href=\"/map/fr/france/cities/paris/articles/6/eiffel-tower\" title=\"GPS Coordinates of Eiffel Tower\">Eiffel Tower</a>\n",
    "    </h3>\n",
    "    <p>The \n",
    "        <b>Eiffel Tower</b> (French: <span lang=\"fr\" xml:lang=\"fr\">\n",
    "        <b>La tour Eiffel</b></span>, \n",
    "        <span title=\"Representation in the International Phonetic Alphabet (IPA)\">[tuʁ ɛfɛl]</span>) is an iron lattice tower located on the Champ de Mars in Paris, France. It was named after the engineer Alexandre Gustave Eiffel, whose company designed and built the tower. Erected in 1889 as th…\n",
    "    </p>\n",
    "    <div class=\"act\">\n",
    "        <a class=\"show\" data-lat=\"48.8583\" data-center-idx=\"w0\" data-lng=\"2.2945\" href=\"#lfmap\" title=\"Show Eiffel Tower in map\" data-zoom=\"14\">\n",
    "            <i class=\"material-icons\"></i> Show in map</a>\n",
    "        <a href=\"/map/fr/france/cities/paris/articles/6/eiffel-tower\" title=\"GPS Coordinates of Eiffel Tower, France\">\n",
    "            <i class=\"material-icons\"></i> Show coordinates</a>\n",
    "    </div>\n",
    "    </article>\n",
    "</li>\n",
    "\n",
    "\n"
   ]
  }
 ],
 "metadata": {
  "kernelspec": {
   "display_name": "Python 3",
   "language": "python",
   "name": "python3"
  },
  "language_info": {
   "codemirror_mode": {
    "name": "ipython",
    "version": 3
   },
   "file_extension": ".py",
   "mimetype": "text/x-python",
   "name": "python",
   "nbconvert_exporter": "python",
   "pygments_lexer": "ipython3",
   "version": "3.6.4"
  }
 },
 "nbformat": 4,
 "nbformat_minor": 2
}
